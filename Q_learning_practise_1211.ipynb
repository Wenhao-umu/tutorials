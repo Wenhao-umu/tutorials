{
  "nbformat": 4,
  "nbformat_minor": 0,
  "metadata": {
    "colab": {
      "name": "Q-learning practise_1211.ipynb",
      "provenance": [],
      "authorship_tag": "ABX9TyN9wKqMHIUotYxSmnKG59P0",
      "include_colab_link": true
    },
    "kernelspec": {
      "name": "python3",
      "display_name": "Python 3"
    },
    "language_info": {
      "name": "python"
    },
    "accelerator": "GPU"
  },
  "cells": [
    {
      "cell_type": "markdown",
      "metadata": {
        "id": "view-in-github",
        "colab_type": "text"
      },
      "source": [
        "<a href=\"https://colab.research.google.com/github/Wenhao-umu/tutorials/blob/master/Q_learning_practise_1211.ipynb\" target=\"_parent\"><img src=\"https://colab.research.google.com/assets/colab-badge.svg\" alt=\"Open In Colab\"/></a>"
      ]
    },
    {
      "cell_type": "code",
      "execution_count": null,
      "metadata": {
        "id": "KaoSFMsUdkJX"
      },
      "outputs": [],
      "source": [
        "from google.colab import drive\n",
        "drive.mount()"
      ]
    }
  ]
}